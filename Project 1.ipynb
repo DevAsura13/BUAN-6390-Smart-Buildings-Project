{
 "cells": [
  {
   "cell_type": "code",
   "execution_count": 1,
   "id": "9db38c15",
   "metadata": {},
   "outputs": [],
   "source": [
    "from matplotlib import pyplot as plt\n",
    "import pandas as pd\n",
    "from math import ceil"
   ]
  },
  {
   "cell_type": "code",
   "execution_count": 4,
   "id": "2146711b",
   "metadata": {},
   "outputs": [
    {
     "ename": "NameError",
     "evalue": "name 'pd' is not defined",
     "output_type": "error",
     "traceback": [
      "\u001b[1;31m---------------------------------------------------------------------------\u001b[0m",
      "\u001b[1;31mNameError\u001b[0m                                 Traceback (most recent call last)",
      "\u001b[1;32m<ipython-input-4-1b29a934c877>\u001b[0m in \u001b[0;36m<module>\u001b[1;34m\u001b[0m\n\u001b[0;32m      2\u001b[0m \u001b[1;33m\u001b[0m\u001b[0m\n\u001b[0;32m      3\u001b[0m \u001b[1;33m\u001b[0m\u001b[0m\n\u001b[1;32m----> 4\u001b[1;33m \u001b[0mdf82\u001b[0m \u001b[1;33m=\u001b[0m \u001b[0mpd\u001b[0m\u001b[1;33m.\u001b[0m\u001b[0mread_csv\u001b[0m\u001b[1;33m(\u001b[0m\u001b[1;34m'./2018Floor2.csv'\u001b[0m\u001b[1;33m)\u001b[0m\u001b[1;33m\u001b[0m\u001b[1;33m\u001b[0m\u001b[0m\n\u001b[0m\u001b[0;32m      5\u001b[0m \u001b[0mdf83\u001b[0m \u001b[1;33m=\u001b[0m \u001b[0mpd\u001b[0m\u001b[1;33m.\u001b[0m\u001b[0mread_csv\u001b[0m\u001b[1;33m(\u001b[0m\u001b[1;34m'./2018Floor3.csv'\u001b[0m\u001b[1;33m)\u001b[0m\u001b[1;33m\u001b[0m\u001b[1;33m\u001b[0m\u001b[0m\n\u001b[0;32m      6\u001b[0m \u001b[0mdf84\u001b[0m \u001b[1;33m=\u001b[0m \u001b[0mpd\u001b[0m\u001b[1;33m.\u001b[0m\u001b[0mread_csv\u001b[0m\u001b[1;33m(\u001b[0m\u001b[1;34m'./2018Floor4.csv'\u001b[0m\u001b[1;33m)\u001b[0m\u001b[1;33m\u001b[0m\u001b[1;33m\u001b[0m\u001b[0m\n",
      "\u001b[1;31mNameError\u001b[0m: name 'pd' is not defined"
     ]
    }
   ],
   "source": [
    "# Creating Dataframes from the Dataset\n",
    "df81 = pd.read_csv('./2018Floor1.csv') \n",
    "df82 = pd.read_csv('./2018Floor2.csv') \n",
    "df83 = pd.read_csv('./2018Floor3.csv') \n",
    "df84 = pd.read_csv('./2018Floor4.csv') \n",
    "df85 = pd.read_csv('./2018Floor5.csv')  \n",
    "df86 = pd.read_csv('./2018Floor6.csv') \n",
    "df87 = pd.read_csv('./2018Floor7.csv')\n",
    "df91 = pd.read_csv('./2019Floor1.csv') \n",
    "df92 = pd.read_csv('./2019Floor2.csv') \n",
    "df93 = pd.read_csv('./2019Floor3.csv') \n",
    "df94 = pd.read_csv('./2019Floor4.csv') \n",
    "df95 = pd.read_csv('./2019Floor5.csv') \n",
    "df96 = pd.read_csv('./2019Floor6.csv') \n",
    "df97 = pd.read_csv('./2019Floor7.csv') \n",
    "\n",
    "\n"
   ]
  },
  {
   "cell_type": "code",
   "execution_count": 5,
   "id": "95a4a477",
   "metadata": {},
   "outputs": [
    {
     "ename": "NameError",
     "evalue": "name 'df97' is not defined",
     "output_type": "error",
     "traceback": [
      "\u001b[1;31m---------------------------------------------------------------------------\u001b[0m",
      "\u001b[1;31mNameError\u001b[0m                                 Traceback (most recent call last)",
      "\u001b[1;32m<ipython-input-5-c1b3f282e9a9>\u001b[0m in \u001b[0;36m<module>\u001b[1;34m\u001b[0m\n\u001b[0;32m      1\u001b[0m \u001b[1;31m# We removed NaN values from the selected dataframes.\u001b[0m\u001b[1;33m\u001b[0m\u001b[1;33m\u001b[0m\u001b[1;33m\u001b[0m\u001b[0m\n\u001b[1;32m----> 2\u001b[1;33m \u001b[0msample97\u001b[0m \u001b[1;33m=\u001b[0m \u001b[0mdf97\u001b[0m\u001b[1;33m.\u001b[0m\u001b[0mdropna\u001b[0m\u001b[1;33m(\u001b[0m\u001b[1;33m)\u001b[0m\u001b[1;33m\u001b[0m\u001b[1;33m\u001b[0m\u001b[0m\n\u001b[0m\u001b[0;32m      3\u001b[0m \u001b[0msample87\u001b[0m \u001b[1;33m=\u001b[0m \u001b[0mdf87\u001b[0m\u001b[1;33m.\u001b[0m\u001b[0mdropna\u001b[0m\u001b[1;33m(\u001b[0m\u001b[1;33m)\u001b[0m\u001b[1;33m\u001b[0m\u001b[1;33m\u001b[0m\u001b[0m\n\u001b[0;32m      4\u001b[0m \u001b[1;31m# We are retaining only 3 columns from the data frame\u001b[0m\u001b[1;33m\u001b[0m\u001b[1;33m\u001b[0m\u001b[1;33m\u001b[0m\u001b[0m\n\u001b[0;32m      5\u001b[0m \u001b[0msample97\u001b[0m \u001b[1;33m=\u001b[0m \u001b[0msample97\u001b[0m\u001b[1;33m[\u001b[0m\u001b[1;33m[\u001b[0m\u001b[1;34m'Date'\u001b[0m\u001b[1;33m,\u001b[0m\u001b[1;34m'z5_AC1(kW)'\u001b[0m\u001b[1;33m,\u001b[0m\u001b[1;34m'z5_S1(degC)'\u001b[0m\u001b[1;33m]\u001b[0m\u001b[1;33m]\u001b[0m\u001b[1;33m\u001b[0m\u001b[1;33m\u001b[0m\u001b[0m\n",
      "\u001b[1;31mNameError\u001b[0m: name 'df97' is not defined"
     ]
    }
   ],
   "source": [
    "# We removed NaN values from the selected dataframes.\n",
    "sample97 = df97.dropna()\n",
    "sample87 = df87.dropna()\n",
    "# We are retaining only 3 columns from the data frame\n",
    "sample97 = sample97[['Date','z5_AC1(kW)','z5_S1(degC)']]\n",
    "sample97['z5_S1(degC)'] = sample97['z5_S1(degC)'].apply(lambda x: round(x * 20)/20)\n",
    "sample87 = sample87[['Date','z5_AC1(kW)','z5_S1(degC)']]\n",
    "sample87['z5_S1(degC)'] = sample87['z5_S1(degC)'].apply(lambda x: round(x * 20)/20)\n",
    "print(sample87, sample87['z5_AC1(kW)'].min(), sample87['z5_AC1(kW)'].max())"
   ]
  },
  {
   "cell_type": "code",
   "execution_count": 150,
   "id": "c7034783",
   "metadata": {},
   "outputs": [],
   "source": [
    "# We are converting date in string to pandas date time\n",
    "sample97['DT'] = pd.to_datetime(sample97['Date'])\n",
    "sample87['DT'] = pd.to_datetime(sample87['Date'])"
   ]
  },
  {
   "cell_type": "code",
   "execution_count": 151,
   "id": "224cf824",
   "metadata": {},
   "outputs": [
    {
     "name": "stdout",
     "output_type": "stream",
     "text": [
      "                        DT  z5_AC1(kW)  z5_S1(degC)\n",
      "93104  2019-03-06 15:44:00       10.03        21.80\n",
      "93105  2019-03-06 15:45:00        9.91        21.50\n",
      "93106  2019-03-06 15:46:00       10.06        21.30\n",
      "93107  2019-03-06 15:47:00        9.93        21.15\n",
      "93108  2019-03-06 15:48:00        9.14        21.00\n",
      "...                    ...         ...          ...\n",
      "525595 2019-12-31 23:55:00        0.00        29.45\n",
      "525596 2019-12-31 23:56:00        0.00        29.45\n",
      "525597 2019-12-31 23:57:00        0.00        29.40\n",
      "525598 2019-12-31 23:58:00        0.00        29.40\n",
      "525599 2019-12-31 23:59:00        0.00        29.40\n",
      "\n",
      "[377567 rows x 3 columns]\n"
     ]
    }
   ],
   "source": [
    "# We are taking the new pandas date time column\n",
    "sample97 = sample97[['DT','z5_AC1(kW)','z5_S1(degC)']]\n",
    "sample87 = sample87[['DT','z5_AC1(kW)','z5_S1(degC)']]\n",
    "print(sample97)"
   ]
  },
  {
   "cell_type": "code",
   "execution_count": 152,
   "id": "b9e577ad",
   "metadata": {},
   "outputs": [
    {
     "name": "stdout",
     "output_type": "stream",
     "text": [
      "            z5_AC1(kW)  z5_S1(degC)\n",
      "DT                                 \n",
      "2019-03-06      566.10        27.90\n",
      "2019-03-07     4402.18        27.90\n",
      "2019-03-08     3684.46        28.50\n",
      "2019-03-09        0.00        29.50\n",
      "2019-03-10        0.00        30.50\n",
      "...                ...          ...\n",
      "2019-12-27     4112.81        26.90\n",
      "2019-12-28        0.00        27.90\n",
      "2019-12-29        0.00        29.90\n",
      "2019-12-30        0.00        30.75\n",
      "2019-12-31        0.00        30.90\n",
      "\n",
      "[283 rows x 2 columns]\n"
     ]
    }
   ],
   "source": [
    "# We are grouping by the date field from the date time and we are summing up the power in KW, and we are getting the maximum power in a day\n",
    "# So the assumption is that when temperatures are hottest, the AC consumption is most. \n",
    "sample97 = sample97.groupby([sample97['DT'].dt.date]).agg({'z5_AC1(kW)': 'sum',\n",
    "                                                     'z5_S1(degC)': 'max'})\n",
    "sample87 = sample87.groupby([sample87['DT'].dt.date]).agg({'z5_AC1(kW)': 'sum',\n",
    "                                                     'z5_S1(degC)': 'max'})\n",
    "print(sample97)"
   ]
  },
  {
   "cell_type": "code",
   "execution_count": 153,
   "id": "b21ddb5c",
   "metadata": {},
   "outputs": [
    {
     "name": "stdout",
     "output_type": "stream",
     "text": [
      "    z5_S1(degC)   z5_AC1(kW) color\n",
      "0         25.80  2337.010000     y\n",
      "1         25.90  1993.700000     y\n",
      "2         25.95  2214.420000     y\n",
      "3         26.50  2740.950000     y\n",
      "4         26.65  3688.340000     y\n",
      "5         26.70  1098.100000     y\n",
      "6         26.90  3359.885417     y\n",
      "7         26.95  3493.735000     y\n",
      "8         27.00  4056.430000     y\n",
      "9         27.10  3201.690000     y\n",
      "10        27.30  4053.600000     y\n",
      "11        27.40  3425.350000     y\n",
      "12        27.50  3791.800000     y\n",
      "13        27.60  3598.295000     y\n",
      "14        27.65  5359.650000     y\n",
      "15        27.70  4547.390000     y\n",
      "16        27.80  3943.431667     y\n",
      "17        27.90  4133.840702     y\n",
      "18        27.95  2038.620000     y\n",
      "19        28.00  4190.835000     y\n",
      "20        28.10  4820.946667     y\n",
      "21        28.20  4283.970000     y\n",
      "22        28.40  4860.220000     y\n",
      "23        28.50  4577.610000     y\n",
      "24        28.60  4143.122500     y\n",
      "25        28.70  4943.310000     y\n",
      "26        28.80  5234.351667     y\n",
      "27        28.85  5083.950000     y\n",
      "28        28.90  5163.473750     y\n",
      "29        28.95  5584.330000     y\n",
      "30        29.10  5248.780000     y\n",
      "31        29.50  6802.890000     y\n",
      "32        29.70  6650.350000     y\n",
      "33        29.80  6272.510000     y\n",
      "34        29.90  6519.939000     y\n",
      "35        29.95  7403.610000     y\n",
      "36        30.00  6900.340000     y\n",
      "37        30.50  5667.300000     y\n",
      "38        30.70  5822.330000     y\n",
      "39        30.90  6427.453333     y\n",
      "40        31.40  7821.315000     y\n",
      "41        31.90  8153.530000     y\n",
      "42        32.30  8170.800000     y\n",
      "43        32.90  8193.670000     y\n",
      "    z5_S1(degC)   z5_AC1(kW) color\n",
      "0         28.80  2433.890000     b\n",
      "1         28.85  5329.120000     b\n",
      "2         28.90  4296.926667     b\n",
      "3         28.95  3816.190000     b\n",
      "4         29.30  2836.630000     b\n",
      "5         29.40  2728.520000     b\n",
      "6         29.70  4429.400000     b\n",
      "7         29.80  4147.416667     b\n",
      "8         29.90  3870.974138     b\n",
      "9         29.95  4039.350000     b\n",
      "10        30.70  4855.735000     b\n",
      "11        30.80  4879.896667     b\n",
      "12        30.90  4648.692500     b\n",
      "13        30.95  4624.910000     b\n",
      "14        31.10   987.720000     b\n",
      "15        31.40  5268.950000     b\n",
      "16        31.60  2176.290000     b\n",
      "17        31.90   100.660000     b\n"
     ]
    }
   ],
   "source": [
    "# This considers only AC and Kw, ie. date column is removed.\n",
    "final97 = sample97[['z5_AC1(kW)', 'z5_S1(degC)']]\n",
    "# We are removing the values where AC is zero, because we dont want it to skew our values\n",
    "final97 = final97[~(final97['z5_AC1(kW)'] == 0)]\n",
    "# We are grouping by temperature and finding average power consumed for a given temperature. \n",
    "final97 = final97.groupby([final97['z5_S1(degC)']]).mean()\n",
    "# restting pandas index\n",
    "final97 = final97.reset_index()\n",
    "# setting color to yellow\n",
    "final97['color'] = 'y'\n",
    "print(final97)\n",
    "\n",
    "# same steps for the below\n",
    "\n",
    "final87 = sample87[['z5_AC1(kW)', 'z5_S1(degC)']]\n",
    "final87 = final87[~(final87['z5_AC1(kW)'] == 0)]\n",
    "final87 = final87.groupby([final87['z5_S1(degC)']]).mean()\n",
    "final87 = final87.reset_index()\n",
    "final87['color'] = 'b'\n",
    "print(final87)\n",
    "# We are concatenating the two\n",
    "merged = pd.concat([final87, final97])"
   ]
  },
  {
   "cell_type": "code",
   "execution_count": 3,
   "id": "100370b7",
   "metadata": {},
   "outputs": [
    {
     "ename": "NameError",
     "evalue": "name 'plt' is not defined",
     "output_type": "error",
     "traceback": [
      "\u001b[1;31m---------------------------------------------------------------------------\u001b[0m",
      "\u001b[1;31mNameError\u001b[0m                                 Traceback (most recent call last)",
      "\u001b[1;32m<ipython-input-3-4fec462c593b>\u001b[0m in \u001b[0;36m<module>\u001b[1;34m\u001b[0m\n\u001b[0;32m      1\u001b[0m \u001b[1;31m# creating a scatter plot\u001b[0m\u001b[1;33m\u001b[0m\u001b[1;33m\u001b[0m\u001b[1;33m\u001b[0m\u001b[0m\n\u001b[1;32m----> 2\u001b[1;33m \u001b[0mplt\u001b[0m\u001b[1;33m.\u001b[0m\u001b[0mscatter\u001b[0m\u001b[1;33m(\u001b[0m\u001b[0mmerged\u001b[0m\u001b[1;33m[\u001b[0m\u001b[1;34m'z5_S1(degC)'\u001b[0m\u001b[1;33m]\u001b[0m\u001b[1;33m,\u001b[0m \u001b[0mmerged\u001b[0m\u001b[1;33m[\u001b[0m\u001b[1;34m'z5_AC1(kW)'\u001b[0m\u001b[1;33m]\u001b[0m\u001b[1;33m,\u001b[0m \u001b[0mc\u001b[0m\u001b[1;33m=\u001b[0m\u001b[0mmerged\u001b[0m\u001b[1;33m[\u001b[0m\u001b[1;34m'color'\u001b[0m\u001b[1;33m]\u001b[0m\u001b[1;33m)\u001b[0m\u001b[1;33m\u001b[0m\u001b[1;33m\u001b[0m\u001b[0m\n\u001b[0m\u001b[0;32m      3\u001b[0m \u001b[0mplt\u001b[0m\u001b[1;33m.\u001b[0m\u001b[0mshow\u001b[0m\u001b[1;33m(\u001b[0m\u001b[1;33m)\u001b[0m\u001b[1;33m\u001b[0m\u001b[1;33m\u001b[0m\u001b[0m\n",
      "\u001b[1;31mNameError\u001b[0m: name 'plt' is not defined"
     ]
    }
   ],
   "source": [
    "# creating a scatter plot\n",
    "plt.scatter(merged['z5_S1(degC)'], merged['z5_AC1(kW)'], c=merged['color'])\n",
    "plt.show()"
   ]
  },
  {
   "cell_type": "code",
   "execution_count": null,
   "id": "a970a832",
   "metadata": {},
   "outputs": [],
   "source": []
  }
 ],
 "metadata": {
  "kernelspec": {
   "display_name": "Python 3",
   "language": "python",
   "name": "python3"
  },
  "language_info": {
   "codemirror_mode": {
    "name": "ipython",
    "version": 3
   },
   "file_extension": ".py",
   "mimetype": "text/x-python",
   "name": "python",
   "nbconvert_exporter": "python",
   "pygments_lexer": "ipython3",
   "version": "3.8.8"
  }
 },
 "nbformat": 4,
 "nbformat_minor": 5
}
