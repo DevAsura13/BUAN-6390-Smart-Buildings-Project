{
 "cells": [
  {
   "cell_type": "code",
   "execution_count": 1,
   "id": "9db38c15",
   "metadata": {},
   "outputs": [],
   "source": [
    "from matplotlib import pyplot as plt\n",
    "import pandas as pd\n",
    "from math import ceil"
   ]
  },
  {
   "cell_type": "code",
   "execution_count": 4,
   "id": "2146711b",
   "metadata": {},
   "outputs": [],
   "source": [
    "# Creating Dataframes from the Dataset\n",
    "df81 = pd.read_csv('D:/cu-bems/cu/2018Floor1.csv') \n",
    "df82 = pd.read_csv('D:/cu-bems/cu/2018Floor2.csv') \n",
    "df83 = pd.read_csv('D:/cu-bems/cu/2018Floor3.csv') \n",
    "df84 = pd.read_csv('D:/cu-bems/cu/2018Floor4.csv') \n",
    "df85 = pd.read_csv('D:/cu-bems/cu/2018Floor5.csv')  \n",
    "df86 = pd.read_csv('D:/cu-bems/cu/2018Floor6.csv') \n",
    "df87 = pd.read_csv('D:/cu-bems/cu/2018Floor7.csv')\n",
    "df91 = pd.read_csv('D:/cu-bems/cu/2019Floor1.csv') \n",
    "df92 = pd.read_csv('D:/cu-bems/cu/2019Floor2.csv') \n",
    "df93 = pd.read_csv('D:/cu-bems/cu/2019Floor3.csv') \n",
    "df94 = pd.read_csv('D:/cu-bems/cu/2019Floor4.csv') \n",
    "df95 = pd.read_csv('D:/cu-bems/cu/2019Floor5.csv') \n",
    "df96 = pd.read_csv('D:/cu-bems/cu/2019Floor6.csv') \n",
    "df97 = pd.read_csv('D:/cu-bems/cu/2019Floor7.csv') \n"
   ]
  },
  {
   "cell_type": "code",
   "execution_count": 5,
   "id": "95a4a477",
   "metadata": {},
   "outputs": [
    {
     "name": "stdout",
     "output_type": "stream",
     "text": [
      "                       Date  z5_AC1(kW)  z5_S1(degC)\n",
      "0       2018-07-01 00:00:00         0.0        28.95\n",
      "1       2018-07-01 00:01:00         0.0        28.90\n",
      "2       2018-07-01 00:02:00         0.0        28.90\n",
      "3       2018-07-01 00:03:00         0.0        28.90\n",
      "4       2018-07-01 00:04:00         0.0        28.90\n",
      "...                     ...         ...          ...\n",
      "105853  2018-09-12 12:13:00         0.0        27.35\n",
      "105854  2018-09-12 12:14:00         0.0        27.40\n",
      "105855  2018-09-12 12:15:00         0.0        27.50\n",
      "105856  2018-09-12 12:16:00         0.0        27.60\n",
      "105859  2018-09-12 12:19:00         0.0        27.75\n",
      "\n",
      "[88906 rows x 3 columns] 0.0 20.1\n"
     ]
    }
   ],
   "source": [
    "# We removed NaN values from the selected dataframes.\n",
    "sample97 = df97.dropna()\n",
    "sample87 = df87.dropna()\n",
    "# We are retaining only 3 columns from the data frame\n",
    "sample97 = sample97[['Date','z5_AC1(kW)','z5_S1(degC)']]\n",
    "sample97['z5_S1(degC)'] = sample97['z5_S1(degC)'].apply(lambda x: round(x * 20)/20)\n",
    "sample87 = sample87[['Date','z5_AC1(kW)','z5_S1(degC)']]\n",
    "sample87['z5_S1(degC)'] = sample87['z5_S1(degC)'].apply(lambda x: round(x * 20)/20)\n",
    "print(sample87, sample87['z5_AC1(kW)'].min(), sample87['z5_AC1(kW)'].max())"
   ]
  },
  {
   "cell_type": "code",
   "execution_count": 6,
   "id": "c7034783",
   "metadata": {},
   "outputs": [],
   "source": [
    "# We are converting date in string to pandas date time\n",
    "sample97['DT'] = pd.to_datetime(sample97['Date'])\n",
    "sample87['DT'] = pd.to_datetime(sample87['Date'])"
   ]
  },
  {
   "cell_type": "code",
   "execution_count": 7,
   "id": "224cf824",
   "metadata": {},
   "outputs": [
    {
     "name": "stdout",
     "output_type": "stream",
     "text": [
      "                        DT  z5_AC1(kW)  z5_S1(degC)\n",
      "93104  2019-03-06 15:44:00       10.03        21.80\n",
      "93105  2019-03-06 15:45:00        9.91        21.50\n",
      "93106  2019-03-06 15:46:00       10.06        21.30\n",
      "93107  2019-03-06 15:47:00        9.93        21.15\n",
      "93108  2019-03-06 15:48:00        9.14        21.00\n",
      "...                    ...         ...          ...\n",
      "525595 2019-12-31 23:55:00        0.00        29.45\n",
      "525596 2019-12-31 23:56:00        0.00        29.45\n",
      "525597 2019-12-31 23:57:00        0.00        29.40\n",
      "525598 2019-12-31 23:58:00        0.00        29.40\n",
      "525599 2019-12-31 23:59:00        0.00        29.40\n",
      "\n",
      "[377567 rows x 3 columns]\n"
     ]
    }
   ],
   "source": [
    "# We are taking the new pandas date time column\n",
    "sample97 = sample97[['DT','z5_AC1(kW)','z5_S1(degC)']]\n",
    "sample87 = sample87[['DT','z5_AC1(kW)','z5_S1(degC)']]\n",
    "print(sample97)"
   ]
  },
  {
   "cell_type": "code",
   "execution_count": 8,
   "id": "b9e577ad",
   "metadata": {},
   "outputs": [
    {
     "name": "stdout",
     "output_type": "stream",
     "text": [
      "            z5_AC1(kW)  z5_S1(degC)\n",
      "DT                                 \n",
      "2019-03-06      566.10        27.90\n",
      "2019-03-07     4402.18        27.90\n",
      "2019-03-08     3684.46        28.50\n",
      "2019-03-09        0.00        29.50\n",
      "2019-03-10        0.00        30.50\n",
      "...                ...          ...\n",
      "2019-12-27     4112.81        26.90\n",
      "2019-12-28        0.00        27.90\n",
      "2019-12-29        0.00        29.90\n",
      "2019-12-30        0.00        30.75\n",
      "2019-12-31        0.00        30.90\n",
      "\n",
      "[283 rows x 2 columns]\n"
     ]
    }
   ],
   "source": [
    "# We are grouping by the date field from the date time and we are summing up the power in KW, and we are getting the maximum power in a day\n",
    "# So the assumption is that when temperatures are hottest, the AC consumption is most. \n",
    "sample97 = sample97.groupby([sample97['DT'].dt.date]).agg({'z5_AC1(kW)': 'sum',\n",
    "                                                     'z5_S1(degC)': 'max'})\n",
    "sample87 = sample87.groupby([sample87['DT'].dt.date]).agg({'z5_AC1(kW)': 'sum',\n",
    "                                                     'z5_S1(degC)': 'max'})\n",
    "print(sample97)"
   ]
  },
  {
   "cell_type": "code",
   "execution_count": 9,
   "id": "b21ddb5c",
   "metadata": {},
   "outputs": [
    {
     "name": "stdout",
     "output_type": "stream",
     "text": [
      "    z5_S1(degC)   z5_AC1(kW) color\n",
      "0         25.80  2337.010000     y\n",
      "1         25.90  1993.700000     y\n",
      "2         25.95  2214.420000     y\n",
      "3         26.50  2740.950000     y\n",
      "4         26.65  3688.340000     y\n",
      "5         26.70  1098.100000     y\n",
      "6         26.90  3359.885417     y\n",
      "7         26.95  3493.735000     y\n",
      "8         27.00  4056.430000     y\n",
      "9         27.10  3201.690000     y\n",
      "10        27.30  4053.600000     y\n",
      "11        27.40  3425.350000     y\n",
      "12        27.50  3791.800000     y\n",
      "13        27.60  3598.295000     y\n",
      "14        27.65  5359.650000     y\n",
      "15        27.70  4547.390000     y\n",
      "16        27.80  3943.431667     y\n",
      "17        27.90  4133.840702     y\n",
      "18        27.95  2038.620000     y\n",
      "19        28.00  4190.835000     y\n",
      "20        28.10  4820.946667     y\n",
      "21        28.20  4283.970000     y\n",
      "22        28.40  4860.220000     y\n",
      "23        28.50  4577.610000     y\n",
      "24        28.60  4143.122500     y\n",
      "25        28.70  4943.310000     y\n",
      "26        28.80  5234.351667     y\n",
      "27        28.85  5083.950000     y\n",
      "28        28.90  5163.473750     y\n",
      "29        28.95  5584.330000     y\n",
      "30        29.10  5248.780000     y\n",
      "31        29.50  6802.890000     y\n",
      "32        29.70  6650.350000     y\n",
      "33        29.80  6272.510000     y\n",
      "34        29.90  6519.939000     y\n",
      "35        29.95  7403.610000     y\n",
      "36        30.00  6900.340000     y\n",
      "37        30.50  5667.300000     y\n",
      "38        30.70  5822.330000     y\n",
      "39        30.90  6427.453333     y\n",
      "40        31.40  7821.315000     y\n",
      "41        31.90  8153.530000     y\n",
      "42        32.30  8170.800000     y\n",
      "43        32.90  8193.670000     y\n",
      "    z5_S1(degC)   z5_AC1(kW) color\n",
      "0         28.80  2433.890000     b\n",
      "1         28.85  5329.120000     b\n",
      "2         28.90  4296.926667     b\n",
      "3         28.95  3816.190000     b\n",
      "4         29.30  2836.630000     b\n",
      "5         29.40  2728.520000     b\n",
      "6         29.70  4429.400000     b\n",
      "7         29.80  4147.416667     b\n",
      "8         29.90  3870.974138     b\n",
      "9         29.95  4039.350000     b\n",
      "10        30.70  4855.735000     b\n",
      "11        30.80  4879.896667     b\n",
      "12        30.90  4648.692500     b\n",
      "13        30.95  4624.910000     b\n",
      "14        31.10   987.720000     b\n",
      "15        31.40  5268.950000     b\n",
      "16        31.60  2176.290000     b\n",
      "17        31.90   100.660000     b\n"
     ]
    }
   ],
   "source": [
    "# This considers only AC and Kw, ie. date column is removed.\n",
    "final97 = sample97[['z5_AC1(kW)', 'z5_S1(degC)']]\n",
    "# We are removing the values where AC is zero, because we dont want it to skew our values\n",
    "final97 = final97[~(final97['z5_AC1(kW)'] == 0)]\n",
    "# We are grouping by temperature and finding average power consumed for a given temperature. \n",
    "final97 = final97.groupby([final97['z5_S1(degC)']]).mean()\n",
    "# restting pandas index\n",
    "final97 = final97.reset_index()\n",
    "# setting color to yellow\n",
    "final97['color'] = 'y'\n",
    "print(final97)\n",
    "\n",
    "# same steps for the below\n",
    "\n",
    "final87 = sample87[['z5_AC1(kW)', 'z5_S1(degC)']]\n",
    "final87 = final87[~(final87['z5_AC1(kW)'] == 0)]\n",
    "final87 = final87.groupby([final87['z5_S1(degC)']]).mean()\n",
    "final87 = final87.reset_index()\n",
    "final87['color'] = 'b'\n",
    "print(final87)\n",
    "# We are concatenating the two\n",
    "merged = pd.concat([final87, final97])"
   ]
  },
  {
   "cell_type": "code",
   "execution_count": 10,
   "id": "100370b7",
   "metadata": {},
   "outputs": [
    {
     "data": {
      "image/png": "[encoded data removed]",
      "text/plain": [
       "<Figure size 432x288 with 1 Axes>"
      ]
     },
     "metadata": {
      "needs_background": "light"
     },
     "output_type": "display_data"
    }
   ],
   "source": [
    "# creating a scatter plot\n",
    "plt.scatter(merged['z5_S1(degC)'], merged['z5_AC1(kW)'], c=merged['color'])\n",
    "plt.show()"
   ]
  },
  {
   "cell_type": "code",
   "execution_count": 12,
   "id": "18213f39",
   "metadata": {},
   "outputs": [],
   "source": [
    "import numpy as np"
   ]
  },
  {
   "cell_type": "code",
   "execution_count": 13,
   "id": "a970a832",
   "metadata": {},
   "outputs": [],
   "source": [
    "my_rho = np.corrcoef(merged['z5_S1(degC)'], merged['z5_AC1(kW)'])"
   ]
  },
  {
   "cell_type": "code",
   "execution_count": 14,
   "id": "b354f85e",
   "metadata": {},
   "outputs": [
    {
     "name": "stdout",
     "output_type": "stream",
     "text": [
      "[[1.         0.48870934]\n",
      " [0.48870934 1.        ]]\n"
     ]
    }
   ],
   "source": [
    "print(my_rho)"
   ]
  },
  {
   "cell_type": "code",
   "execution_count": 20,
   "id": "be3a684c",
   "metadata": {},
   "outputs": [
    {
     "data": {
      "text/html": [
       "<div>\n",
       "<style scoped>\n",
       "    .dataframe tbody tr th:only-of-type {\n",
       "        vertical-align: middle;\n",
       "    }\n",
       "\n",
       "    .dataframe tbody tr th {\n",
       "        vertical-align: top;\n",
       "    }\n",
       "\n",
       "    .dataframe thead th {\n",
       "        text-align: right;\n",
       "    }\n",
       "</style>\n",
       "<table border=\"1\" class=\"dataframe\">\n",
       "  <thead>\n",
       "    <tr style=\"text-align: right;\">\n",
       "      <th></th>\n",
       "      <th>z5_S1(degC)</th>\n",
       "      <th>z5_AC1(kW)</th>\n",
       "    </tr>\n",
       "  </thead>\n",
       "  <tbody>\n",
       "    <tr>\n",
       "      <th>0</th>\n",
       "      <td>28.80</td>\n",
       "      <td>2433.890000</td>\n",
       "    </tr>\n",
       "    <tr>\n",
       "      <th>1</th>\n",
       "      <td>28.85</td>\n",
       "      <td>5329.120000</td>\n",
       "    </tr>\n",
       "    <tr>\n",
       "      <th>2</th>\n",
       "      <td>28.90</td>\n",
       "      <td>4296.926667</td>\n",
       "    </tr>\n",
       "    <tr>\n",
       "      <th>3</th>\n",
       "      <td>28.95</td>\n",
       "      <td>3816.190000</td>\n",
       "    </tr>\n",
       "    <tr>\n",
       "      <th>4</th>\n",
       "      <td>29.30</td>\n",
       "      <td>2836.630000</td>\n",
       "    </tr>\n",
       "    <tr>\n",
       "      <th>...</th>\n",
       "      <td>...</td>\n",
       "      <td>...</td>\n",
       "    </tr>\n",
       "    <tr>\n",
       "      <th>39</th>\n",
       "      <td>30.90</td>\n",
       "      <td>6427.453333</td>\n",
       "    </tr>\n",
       "    <tr>\n",
       "      <th>40</th>\n",
       "      <td>31.40</td>\n",
       "      <td>7821.315000</td>\n",
       "    </tr>\n",
       "    <tr>\n",
       "      <th>41</th>\n",
       "      <td>31.90</td>\n",
       "      <td>8153.530000</td>\n",
       "    </tr>\n",
       "    <tr>\n",
       "      <th>42</th>\n",
       "      <td>32.30</td>\n",
       "      <td>8170.800000</td>\n",
       "    </tr>\n",
       "    <tr>\n",
       "      <th>43</th>\n",
       "      <td>32.90</td>\n",
       "      <td>8193.670000</td>\n",
       "    </tr>\n",
       "  </tbody>\n",
       "</table>\n",
       "<p>62 rows × 2 columns</p>\n",
       "</div>"
      ],
      "text/plain": [
       "    z5_S1(degC)   z5_AC1(kW)\n",
       "0         28.80  2433.890000\n",
       "1         28.85  5329.120000\n",
       "2         28.90  4296.926667\n",
       "3         28.95  3816.190000\n",
       "4         29.30  2836.630000\n",
       "..          ...          ...\n",
       "39        30.90  6427.453333\n",
       "40        31.40  7821.315000\n",
       "41        31.90  8153.530000\n",
       "42        32.30  8170.800000\n",
       "43        32.90  8193.670000\n",
       "\n",
       "[62 rows x 2 columns]"
      ]
     },
     "execution_count": 20,
     "metadata": {},
     "output_type": "execute_result"
    }
   ],
   "source": [
    "merged.drop(['color'], axis=1)\n"
   ]
  },
  {
   "cell_type": "code",
   "execution_count": 22,
   "id": "081e789c",
   "metadata": {},
   "outputs": [
    {
     "data": {
      "text/plain": [
       "<seaborn.axisgrid.FacetGrid at 0x2953f5de8b0>"
      ]
     },
     "execution_count": 22,
     "metadata": {},
     "output_type": "execute_result"
    },
    {
     "data": {
      "image/png": "[encoded data removed]",
      "text/plain": [
       "<Figure size 360x360 with 1 Axes>"
      ]
     },
     "metadata": {
      "needs_background": "light"
     },
     "output_type": "display_data"
    }
   ],
   "source": [
    "import seaborn as sns\n",
    "sns.lmplot(x=\"z5_S1(degC)\", y=\"z5_AC1(kW)\",data=merged)"
   ]
  },
  {
   "cell_type": "code",
   "execution_count": 23,
   "id": "d11b02e3",
   "metadata": {},
   "outputs": [
    {
     "data": {
      "text/plain": [
       "(0.48870934291147744, 5.5754167740347764e-05)"
      ]
     },
     "execution_count": 23,
     "metadata": {},
     "output_type": "execute_result"
    }
   ],
   "source": [
    "from scipy import stats\n",
    "stats.pearsonr(merged['z5_S1(degC)'],merged['z5_AC1(kW)'])\n"
   ]
  },
  {
   "cell_type": "code",
   "execution_count": 29,
   "id": "d068c5c5",
   "metadata": {},
   "outputs": [],
   "source": [
    "import numpy as np\n",
    "from sklearn.linear_model import LinearRegression\n",
    "x=merged['z5_S1(degC)'].to_numpy().reshape(-1,1)\n",
    "y=merged['z5_AC1(kW)'].to_numpy()\n"
   ]
  },
  {
   "cell_type": "code",
   "execution_count": 30,
   "id": "da5d6c18",
   "metadata": {},
   "outputs": [],
   "source": [
    "model = LinearRegression()\n",
    "model.fit(x, y)\n",
    "model = LinearRegression().fit(x, y) "
   ]
  },
  {
   "cell_type": "code",
   "execution_count": 31,
   "id": "f113f02c",
   "metadata": {},
   "outputs": [
    {
     "name": "stdout",
     "output_type": "stream",
     "text": [
      "coefficient of determination: 0.23883682184896793\n"
     ]
    }
   ],
   "source": [
    "r_sq = model.score(x, y)\n",
    "print('coefficient of determination:', r_sq)"
   ]
  },
  {
   "cell_type": "code",
   "execution_count": 32,
   "id": "83ed0eec",
   "metadata": {},
   "outputs": [
    {
     "name": "stdout",
     "output_type": "stream",
     "text": [
      "intercept: -10151.34971710401\n"
     ]
    }
   ],
   "source": [
    "print('intercept:', model.intercept_)"
   ]
  },
  {
   "cell_type": "code",
   "execution_count": 33,
   "id": "5a43556a",
   "metadata": {},
   "outputs": [
    {
     "name": "stdout",
     "output_type": "stream",
     "text": [
      "slope: [503.90183297]\n"
     ]
    }
   ],
   "source": [
    "print('slope:', model.coef_)"
   ]
  },
  {
   "cell_type": "code",
   "execution_count": 34,
   "id": "4168ae61",
   "metadata": {},
   "outputs": [
    {
     "name": "stdout",
     "output_type": "stream",
     "text": [
      "predicted response:\n",
      "[4361.0230725  4386.21816415 4411.41325579 4436.60834744 4612.97398898\n",
      " 4663.36417228 4814.53472217 4864.92490547 4915.31508877 4940.51018041\n",
      " 5318.43655514 5368.82673844 5419.21692174 5444.41201339 5519.99728833\n",
      " 5671.16783822 5771.94820482 5923.11875471 2849.31757358 2899.70775688\n",
      " 2924.90284853 3202.04885666 3277.63413161 3302.82922325 3403.60958985\n",
      " 3428.8046815  3453.99977315 3504.38995644 3605.17032304 3655.56050634\n",
      " 3705.95068963 3756.34087293 3781.53596458 3806.73105623 3857.12123952\n",
      " 3907.51142282 3932.70651447 3957.90160612 4008.29178942 4058.68197271\n",
      " 4159.46233931 4209.8525226  4260.2427059  4310.6328892  4361.0230725\n",
      " 4386.21816415 4411.41325579 4436.60834744 4512.19362239 4713.75435558\n",
      " 4814.53472217 4864.92490547 4915.31508877 4940.51018041 4965.70527206\n",
      " 5217.65618855 5318.43655514 5419.21692174 5671.16783822 5923.11875471\n",
      " 6124.6794879  6427.02058768]\n"
     ]
    }
   ],
   "source": [
    " y_pred = model.predict(x)\n",
    " print('predicted response:', y_pred, sep='\\n')"
   ]
  },
  {
   "cell_type": "code",
   "execution_count": null,
   "id": "e5013fa8",
   "metadata": {},
   "outputs": [],
   "source": [
    "# Creating a univariate histogram\n",
    "\n",
    "final97\n"
   ]
  }
 ],
 "metadata": {
  "kernelspec": {
   "display_name": "Python 3",
   "language": "python",
   "name": "python3"
  },
  "language_info": {
   "codemirror_mode": {
    "name": "ipython",
    "version": 3
   },
   "file_extension": ".py",
   "mimetype": "text/x-python",
   "name": "python",
   "nbconvert_exporter": "python",
   "pygments_lexer": "ipython3",
   "version": "3.8.8"
  }
 },
 "nbformat": 4,
 "nbformat_minor": 5
}
